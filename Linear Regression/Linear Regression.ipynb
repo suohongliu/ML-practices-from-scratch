{
 "cells": [
  {
   "cell_type": "code",
   "execution_count": 36,
   "id": "39609c44",
   "metadata": {},
   "outputs": [],
   "source": [
    "import numpy as np\n",
    "import matplotlib.pyplot as plt\n",
    "from sklearn import linear_model\n",
    "import pandas as pd"
   ]
  },
  {
   "cell_type": "code",
   "execution_count": 53,
   "id": "ff7bb75c",
   "metadata": {},
   "outputs": [],
   "source": [
    "#https://www.mathsisfun.com/data/least-squares-regression.html\n",
    "#https://scikit-learn.org/stable/modules/generated/sklearn.linear_model.LinearRegression.html"
   ]
  },
  {
   "cell_type": "code",
   "execution_count": 6,
   "id": "b8415d7e",
   "metadata": {},
   "outputs": [],
   "source": [
    "x = np.array([5, 15, 25, 35, 45, 55]).reshape((-1, 1))\n",
    "y = np.array([5, 20, 14, 32, 22, 38])"
   ]
  },
  {
   "cell_type": "code",
   "execution_count": 7,
   "id": "57742ed7",
   "metadata": {},
   "outputs": [
    {
     "data": {
      "text/plain": [
       "<matplotlib.collections.PathCollection at 0x14e14278640>"
      ]
     },
     "execution_count": 7,
     "metadata": {},
     "output_type": "execute_result"
    },
    {
     "data": {
      "image/png": "[encoded data removed]",
      "text/plain": [
       "<Figure size 432x288 with 1 Axes>"
      ]
     },
     "metadata": {
      "needs_background": "light"
     },
     "output_type": "display_data"
    }
   ],
   "source": [
    "#plot scatter\n",
    "plt.scatter(x,y)"
   ]
  },
  {
   "cell_type": "code",
   "execution_count": 52,
   "id": "bf18b60a",
   "metadata": {},
   "outputs": [
    {
     "name": "stdout",
     "output_type": "stream",
     "text": [
      "[0.54]\n",
      "5.633333333333333\n",
      "[ 8.33333333 13.73333333 19.13333333 24.53333333 29.93333333 35.33333333]\n"
     ]
    }
   ],
   "source": [
    "reg = linear_model.LinearRegression()\n",
    "reg.fit(x,y)\n",
    "pred_y = reg.predict(x)\n",
    "print(reg.coef_)\n",
    "print(reg.intercept_)\n",
    "print(pred_y)"
   ]
  },
  {
   "cell_type": "code",
   "execution_count": 38,
   "id": "3ad00040",
   "metadata": {},
   "outputs": [
    {
     "name": "stdout",
     "output_type": "stream",
     "text": [
      "[ 5 15 25 35 45 55]\n"
     ]
    }
   ],
   "source": [
    "print(x.reshape(1,-1)[0])"
   ]
  },
  {
   "cell_type": "markdown",
   "id": "80b19ece",
   "metadata": {},
   "source": [
    "## Implement Ordinary Least Square"
   ]
  },
  {
   "cell_type": "code",
   "execution_count": 50,
   "id": "761cc16e",
   "metadata": {},
   "outputs": [
    {
     "name": "stdout",
     "output_type": "stream",
     "text": [
      "[0.54] [5.63333333]\n",
      "[ 5 20 14 32 22 38]\n",
      "[ 8.33333333 13.73333333 19.13333333 24.53333333 29.93333333 35.33333333]\n",
      "[-3.33333333  6.26666667 -5.13333333  7.46666667 -7.93333333  2.66666667]\n"
     ]
    }
   ],
   "source": [
    "def least_square(x,y):\n",
    "    sum_x = 0\n",
    "    sum_y = 0\n",
    "    sum_x2 = 0\n",
    "    sum_xy = 0\n",
    "    for i in range(len(x)):\n",
    "        sum_x += x[i]\n",
    "        sum_y += y[i]\n",
    "        sum_x2 += x[i] * x[i]\n",
    "        sum_xy += x[i] * y[i]\n",
    "\n",
    "    n = len(x)\n",
    "    m = (n * (sum_xy) - (sum_x*sum_y)) / (n * (sum_x2) - (sum_x * sum_x))\n",
    "    b = (sum_y - (m * sum_x)) / n\n",
    "    return m, b\n",
    "\n",
    "m,b = least_square(x,y)\n",
    "y_ls = m*(x.reshape(1,-1)[0]) + b\n",
    "error = np.subtract(y,y_ls)\n",
    "print(m,b)\n",
    "print(y)\n",
    "print(y_ls)\n",
    "print(error)"
   ]
  },
  {
   "cell_type": "code",
   "execution_count": 73,
   "id": "0104716e",
   "metadata": {},
   "outputs": [
    {
     "data": {
      "text/html": [
       "<div>\n",
       "<style scoped>\n",
       "    .dataframe tbody tr th:only-of-type {\n",
       "        vertical-align: middle;\n",
       "    }\n",
       "\n",
       "    .dataframe tbody tr th {\n",
       "        vertical-align: top;\n",
       "    }\n",
       "\n",
       "    .dataframe thead th {\n",
       "        text-align: right;\n",
       "    }\n",
       "</style>\n",
       "<table border=\"1\" class=\"dataframe\">\n",
       "  <thead>\n",
       "    <tr style=\"text-align: right;\">\n",
       "      <th></th>\n",
       "      <th>x</th>\n",
       "      <th>y</th>\n",
       "      <th>y_least_square</th>\n",
       "      <th>y_sklearn_linear</th>\n",
       "    </tr>\n",
       "  </thead>\n",
       "  <tbody>\n",
       "    <tr>\n",
       "      <th>0</th>\n",
       "      <td>[5]</td>\n",
       "      <td>5</td>\n",
       "      <td>3.435387</td>\n",
       "      <td>8.219970</td>\n",
       "    </tr>\n",
       "    <tr>\n",
       "      <th>1</th>\n",
       "      <td>[15]</td>\n",
       "      <td>20</td>\n",
       "      <td>10.388804</td>\n",
       "      <td>13.550873</td>\n",
       "    </tr>\n",
       "    <tr>\n",
       "      <th>2</th>\n",
       "      <td>[25]</td>\n",
       "      <td>14</td>\n",
       "      <td>16.995117</td>\n",
       "      <td>18.881777</td>\n",
       "    </tr>\n",
       "    <tr>\n",
       "      <th>3</th>\n",
       "      <td>[35]</td>\n",
       "      <td>32</td>\n",
       "      <td>23.998121</td>\n",
       "      <td>24.212681</td>\n",
       "    </tr>\n",
       "    <tr>\n",
       "      <th>4</th>\n",
       "      <td>[45]</td>\n",
       "      <td>22</td>\n",
       "      <td>30.538318</td>\n",
       "      <td>29.543584</td>\n",
       "    </tr>\n",
       "  </tbody>\n",
       "</table>\n",
       "</div>"
      ],
      "text/plain": [
       "      x   y  y_least_square  y_sklearn_linear\n",
       "0   [5]   5        3.435387          8.219970\n",
       "1  [15]  20       10.388804         13.550873\n",
       "2  [25]  14       16.995117         18.881777\n",
       "3  [35]  32       23.998121         24.212681\n",
       "4  [45]  22       30.538318         29.543584"
      ]
     },
     "execution_count": 73,
     "metadata": {},
     "output_type": "execute_result"
    }
   ],
   "source": [
    "df = pd.DataFrame(columns=['x','y','y_least_square','y_sklearn_linear'])\n",
    "df['x'] = x.tolist()\n",
    "df['y'] = y.tolist()\n",
    "df['y_least_square'] = y_ls.tolist()\n",
    "df['y_sklearn_linear'] = pred_y.tolist()\n",
    "#df['error'] = error\n",
    "df.head()"
   ]
  },
  {
   "cell_type": "code",
   "execution_count": 74,
   "id": "a5a67185",
   "metadata": {},
   "outputs": [
    {
     "data": {
      "text/plain": [
       "[<matplotlib.lines.Line2D at 0x14e1faa7e20>]"
      ]
     },
     "execution_count": 74,
     "metadata": {},
     "output_type": "execute_result"
    },
    {
     "data": {
      "image/png": "[encoded data removed]",
      "text/plain": [
       "<Figure size 432x288 with 1 Axes>"
      ]
     },
     "metadata": {
      "needs_background": "light"
     },
     "output_type": "display_data"
    }
   ],
   "source": [
    "plt.scatter(x,y)\n",
    "plt.plot(x,y_ls)"
   ]
  },
  {
   "cell_type": "markdown",
   "id": "2501a081",
   "metadata": {},
   "source": [
    "## Implement Gradient Descent\n",
    "#### Mean Squared Error Function"
   ]
  },
  {
   "cell_type": "code",
   "execution_count": 75,
   "id": "41c98004",
   "metadata": {},
   "outputs": [],
   "source": [
    "#https://towardsdatascience.com/linear-regression-using-gradient-descent-97a6c8700931\n",
    "#The Gradient Descent is a optimization algorithm to find the minimum of a funtion \n",
    "#(here we are using Mean squared error function)"
   ]
  },
  {
   "cell_type": "code",
   "execution_count": 76,
   "id": "b3eda830",
   "metadata": {},
   "outputs": [
    {
     "name": "stdout",
     "output_type": "stream",
     "text": [
      "0.6817228359669975 [ 0.05263379  0.32182355 -0.09745987  0.2700832  -0.28033796  0.02163624]\n",
      "[ 5 20 14 32 22 38]\n",
      "[ 3.46124797 10.54766609 16.94561103 24.13038246 30.39718966 37.51639222]\n",
      "[ 1.53875203  9.45233391 -2.94561103  7.86961754 -8.39718966  0.48360778]\n"
     ]
    }
   ],
   "source": [
    "#learning rate\n",
    "L = 0.0001\n",
    "#number of iterations\n",
    "epochs = 1000\n",
    "\n",
    "#number of element in x\n",
    "n = len(x)\n",
    "\n",
    "def gradient_descent(epochs, L, x , y):\n",
    "    #slope\n",
    "    m = 0\n",
    "    c = 0\n",
    "    \n",
    "    x = x.reshape(1,-1)[0]\n",
    "    \n",
    "    for i in range(epochs):\n",
    "        #predicted y\n",
    "        y_pred = m*x + c\n",
    "        #partial derivative of the loss function with respect to m\n",
    "        D_m = (-2/n) * sum(x*(y-y_pred))\n",
    "        #partial derivative of the loss function with respect to c\n",
    "        D_c = (-2/n) * (y-y_pred)\n",
    "        \n",
    "        #update m and c\n",
    "        m = m - L * D_m\n",
    "        c = c - L * D_c\n",
    "    return m, c\n",
    "\n",
    "\n",
    "m,b = gradient_descent(epochs, L, x,y)\n",
    "y_gd = m*(x.reshape(1,-1)[0]) + b\n",
    "error = np.subtract(y,y_gd)\n",
    "print(m,b)\n",
    "print(y)\n",
    "print(y_gd)\n",
    "print(error) \n",
    "\n",
    "    "
   ]
  },
  {
   "cell_type": "code",
   "execution_count": 77,
   "id": "5f055729",
   "metadata": {},
   "outputs": [
    {
     "data": {
      "text/html": [
       "<div>\n",
       "<style scoped>\n",
       "    .dataframe tbody tr th:only-of-type {\n",
       "        vertical-align: middle;\n",
       "    }\n",
       "\n",
       "    .dataframe tbody tr th {\n",
       "        vertical-align: top;\n",
       "    }\n",
       "\n",
       "    .dataframe thead th {\n",
       "        text-align: right;\n",
       "    }\n",
       "</style>\n",
       "<table border=\"1\" class=\"dataframe\">\n",
       "  <thead>\n",
       "    <tr style=\"text-align: right;\">\n",
       "      <th></th>\n",
       "      <th>x</th>\n",
       "      <th>y</th>\n",
       "      <th>y_least_square</th>\n",
       "      <th>y_sklearn_linear</th>\n",
       "      <th>y_gradient_descent</th>\n",
       "    </tr>\n",
       "  </thead>\n",
       "  <tbody>\n",
       "    <tr>\n",
       "      <th>0</th>\n",
       "      <td>[5]</td>\n",
       "      <td>5</td>\n",
       "      <td>3.435387</td>\n",
       "      <td>8.219970</td>\n",
       "      <td>3.461248</td>\n",
       "    </tr>\n",
       "    <tr>\n",
       "      <th>1</th>\n",
       "      <td>[15]</td>\n",
       "      <td>20</td>\n",
       "      <td>10.388804</td>\n",
       "      <td>13.550873</td>\n",
       "      <td>10.547666</td>\n",
       "    </tr>\n",
       "    <tr>\n",
       "      <th>2</th>\n",
       "      <td>[25]</td>\n",
       "      <td>14</td>\n",
       "      <td>16.995117</td>\n",
       "      <td>18.881777</td>\n",
       "      <td>16.945611</td>\n",
       "    </tr>\n",
       "    <tr>\n",
       "      <th>3</th>\n",
       "      <td>[35]</td>\n",
       "      <td>32</td>\n",
       "      <td>23.998121</td>\n",
       "      <td>24.212681</td>\n",
       "      <td>24.130382</td>\n",
       "    </tr>\n",
       "    <tr>\n",
       "      <th>4</th>\n",
       "      <td>[45]</td>\n",
       "      <td>22</td>\n",
       "      <td>30.538318</td>\n",
       "      <td>29.543584</td>\n",
       "      <td>30.397190</td>\n",
       "    </tr>\n",
       "  </tbody>\n",
       "</table>\n",
       "</div>"
      ],
      "text/plain": [
       "      x   y  y_least_square  y_sklearn_linear  y_gradient_descent\n",
       "0   [5]   5        3.435387          8.219970            3.461248\n",
       "1  [15]  20       10.388804         13.550873           10.547666\n",
       "2  [25]  14       16.995117         18.881777           16.945611\n",
       "3  [35]  32       23.998121         24.212681           24.130382\n",
       "4  [45]  22       30.538318         29.543584           30.397190"
      ]
     },
     "execution_count": 77,
     "metadata": {},
     "output_type": "execute_result"
    }
   ],
   "source": [
    "df.insert(4,\"y_gradient_descent\",y_gd)\n",
    "df.head()"
   ]
  },
  {
   "cell_type": "code",
   "execution_count": 78,
   "id": "7ea1258f",
   "metadata": {},
   "outputs": [
    {
     "data": {
      "text/plain": [
       "[<matplotlib.lines.Line2D at 0x14e1faf8250>]"
      ]
     },
     "execution_count": 78,
     "metadata": {},
     "output_type": "execute_result"
    },
    {
     "data": {
      "image/png": "[encoded data removed]",
      "text/plain": [
       "<Figure size 432x288 with 1 Axes>"
      ]
     },
     "metadata": {
      "needs_background": "light"
     },
     "output_type": "display_data"
    }
   ],
   "source": [
    "plt.scatter(x,y)\n",
    "plt.plot(x,y_gd)"
   ]
  },
  {
   "cell_type": "markdown",
   "id": "529ae74a",
   "metadata": {},
   "source": [
    "## SGDRegressor from sklearn"
   ]
  },
  {
   "cell_type": "code",
   "execution_count": null,
   "id": "8d57bdb7",
   "metadata": {},
   "outputs": [],
   "source": [
    "#https://scikit-learn.org/stable/modules/generated/sklearn.linear_model.SGDRegressor.html"
   ]
  },
  {
   "cell_type": "code",
   "execution_count": 80,
   "id": "798c8261",
   "metadata": {},
   "outputs": [
    {
     "name": "stdout",
     "output_type": "stream",
     "text": [
      "[ 8.22313255 13.55191068 18.88068882 24.20946695 29.53824508 34.86702322]\n"
     ]
    }
   ],
   "source": [
    "from sklearn.linear_model import SGDRegressor\n",
    "from sklearn.pipeline import make_pipeline\n",
    "from sklearn.preprocessing import StandardScaler\n",
    "rng = np.random.RandomState(0)\n",
    "# Always scale the input. The most convenient way is to use a pipeline.\n",
    "reg = make_pipeline(StandardScaler(),\n",
    "                    SGDRegressor(max_iter=1000, tol=1e-3))\n",
    "reg.fit(x, y)\n",
    "pred_y = reg.predict(x)\n",
    "print(pred_y)"
   ]
  },
  {
   "cell_type": "code",
   "execution_count": 81,
   "id": "50a516cf",
   "metadata": {},
   "outputs": [
    {
     "data": {
      "text/html": [
       "<div>\n",
       "<style scoped>\n",
       "    .dataframe tbody tr th:only-of-type {\n",
       "        vertical-align: middle;\n",
       "    }\n",
       "\n",
       "    .dataframe tbody tr th {\n",
       "        vertical-align: top;\n",
       "    }\n",
       "\n",
       "    .dataframe thead th {\n",
       "        text-align: right;\n",
       "    }\n",
       "</style>\n",
       "<table border=\"1\" class=\"dataframe\">\n",
       "  <thead>\n",
       "    <tr style=\"text-align: right;\">\n",
       "      <th></th>\n",
       "      <th>x</th>\n",
       "      <th>y</th>\n",
       "      <th>y_least_square</th>\n",
       "      <th>y_sklearn_linear</th>\n",
       "      <th>y_gradient_descent</th>\n",
       "      <th>y_sklearn_SGD</th>\n",
       "    </tr>\n",
       "  </thead>\n",
       "  <tbody>\n",
       "    <tr>\n",
       "      <th>0</th>\n",
       "      <td>[5]</td>\n",
       "      <td>5</td>\n",
       "      <td>3.435387</td>\n",
       "      <td>8.219970</td>\n",
       "      <td>3.461248</td>\n",
       "      <td>8.223133</td>\n",
       "    </tr>\n",
       "    <tr>\n",
       "      <th>1</th>\n",
       "      <td>[15]</td>\n",
       "      <td>20</td>\n",
       "      <td>10.388804</td>\n",
       "      <td>13.550873</td>\n",
       "      <td>10.547666</td>\n",
       "      <td>13.551911</td>\n",
       "    </tr>\n",
       "    <tr>\n",
       "      <th>2</th>\n",
       "      <td>[25]</td>\n",
       "      <td>14</td>\n",
       "      <td>16.995117</td>\n",
       "      <td>18.881777</td>\n",
       "      <td>16.945611</td>\n",
       "      <td>18.880689</td>\n",
       "    </tr>\n",
       "    <tr>\n",
       "      <th>3</th>\n",
       "      <td>[35]</td>\n",
       "      <td>32</td>\n",
       "      <td>23.998121</td>\n",
       "      <td>24.212681</td>\n",
       "      <td>24.130382</td>\n",
       "      <td>24.209467</td>\n",
       "    </tr>\n",
       "    <tr>\n",
       "      <th>4</th>\n",
       "      <td>[45]</td>\n",
       "      <td>22</td>\n",
       "      <td>30.538318</td>\n",
       "      <td>29.543584</td>\n",
       "      <td>30.397190</td>\n",
       "      <td>29.538245</td>\n",
       "    </tr>\n",
       "  </tbody>\n",
       "</table>\n",
       "</div>"
      ],
      "text/plain": [
       "      x   y  y_least_square  y_sklearn_linear  y_gradient_descent  \\\n",
       "0   [5]   5        3.435387          8.219970            3.461248   \n",
       "1  [15]  20       10.388804         13.550873           10.547666   \n",
       "2  [25]  14       16.995117         18.881777           16.945611   \n",
       "3  [35]  32       23.998121         24.212681           24.130382   \n",
       "4  [45]  22       30.538318         29.543584           30.397190   \n",
       "\n",
       "   y_sklearn_SGD  \n",
       "0       8.223133  \n",
       "1      13.551911  \n",
       "2      18.880689  \n",
       "3      24.209467  \n",
       "4      29.538245  "
      ]
     },
     "execution_count": 81,
     "metadata": {},
     "output_type": "execute_result"
    }
   ],
   "source": [
    "df.insert(5,\"y_sklearn_SGD\",pred_y)\n",
    "df.head()"
   ]
  },
  {
   "cell_type": "code",
   "execution_count": 82,
   "id": "5bd75da1",
   "metadata": {},
   "outputs": [
    {
     "data": {
      "text/plain": [
       "[<matplotlib.lines.Line2D at 0x14e1fb41e50>]"
      ]
     },
     "execution_count": 82,
     "metadata": {},
     "output_type": "execute_result"
    },
    {
     "data": {
      "image/png": "[encoded data removed]",
      "text/plain": [
       "<Figure size 432x288 with 1 Axes>"
      ]
     },
     "metadata": {
      "needs_background": "light"
     },
     "output_type": "display_data"
    }
   ],
   "source": [
    "plt.scatter(x,y)\n",
    "plt.plot(x,pred_y)"
   ]
  }
 ],
 "metadata": {
  "kernelspec": {
   "display_name": "Python 3 (ipykernel)",
   "language": "python",
   "name": "python3"
  },
  "language_info": {
   "codemirror_mode": {
    "name": "ipython",
    "version": 3
   },
   "file_extension": ".py",
   "mimetype": "text/x-python",
   "name": "python",
   "nbconvert_exporter": "python",
   "pygments_lexer": "ipython3",
   "version": "3.9.12"
  }
 },
 "nbformat": 4,
 "nbformat_minor": 5
}
